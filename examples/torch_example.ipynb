{
 "cells": [
  {
   "cell_type": "code",
   "execution_count": 6,
   "metadata": {},
   "outputs": [],
   "source": [
    "from classroom.datasets import InMemoryClipDataset, InMemoryPrefDataset\n",
    "import numpy as np\n",
    "\n",
    "\n",
    "ds = InMemoryClipDataset(\n",
    "    '~/classroom/ant',\n",
    "    filter_fn=lambda x: len(x.action) == 120,\n",
    "    transform=lambda x: np.concatenate([x.state.obs, x.action], axis=1)\n",
    ")\n",
    "# ds = InMemoryPrefDataset(\n",
    "#     '~/classroom/ant',\n",
    "#     filter_fn=lambda x: len(x.action) == 120,\n",
    "#     transform=lambda x: np.concatenate([x.state.obs, x.action], axis=1)\n",
    "# )"
   ]
  },
  {
   "cell_type": "code",
   "execution_count": 7,
   "metadata": {},
   "outputs": [],
   "source": [
    "from torch.utils.data import DataLoader\n",
    "from torch.utils.data import random_split\n",
    "\n",
    "train_len = round(len(ds) * 0.8)\n",
    "train, val = random_split(ds, [train_len, len(ds) - train_len])\n",
    "\n",
    "train_dl = DataLoader(train, batch_size=64, shuffle=True)\n",
    "val_dl = DataLoader(val, batch_size=64)"
   ]
  },
  {
   "cell_type": "code",
   "execution_count": null,
   "metadata": {},
   "outputs": [],
   "source": [
    "from imitation.algorithms.preference_comparisons import PreferenceComparisons\n",
    "\n"
   ]
  },
  {
   "cell_type": "code",
   "execution_count": 25,
   "metadata": {},
   "outputs": [],
   "source": [
    "from itertools import pairwise\n",
    "from torch import nn, Tensor\n",
    "# from torch.nn.utils.parametrizations import spectral_norm\n",
    "spectral_norm = lambda x: x\n",
    "\n",
    "\n",
    "class TransformerPrefModel(nn.Module):\n",
    "    def __init__(self, d_model: int, num_layers: int):\n",
    "        super().__init__()\n",
    "        assert d_model % 64 == 0, \"d_model must be divisible by 64\"\n",
    "\n",
    "        self.input_linear = nn.LazyLinear(d_model)\n",
    "        self.transformer = nn.TransformerEncoder(\n",
    "            nn.TransformerEncoderLayer(\n",
    "                d_model, nhead=d_model // 64, dim_feedforward=d_model * 4,\n",
    "                activation='gelu', batch_first=True, norm_first=True\n",
    "            ),\n",
    "            num_layers=num_layers\n",
    "        )\n",
    "        self.reward_linear = nn.Linear(d_model, 1)\n",
    "    \n",
    "    def forward(self, x: Tensor) -> Tensor:\n",
    "        x = self.input_linear(x)\n",
    "        x = self.transformer(x)\n",
    "        x = self.reward_linear(x)\n",
    "        return x.flatten(1).sum(1)\n",
    "    \n",
    "    def pref_logit(self, a: Tensor, b: Tensor) -> Tensor:\n",
    "        return self(a) - self(b)\n"
   ]
  },
  {
   "cell_type": "code",
   "execution_count": 1,
   "metadata": {},
   "outputs": [],
   "source": [
    "import gpytorch as gp\n",
    "import math\n",
    "import matplotlib.pyplot as plt\n",
    "import torch\n",
    "\n",
    "# Training data is 100 points in [0,1] inclusive regularly spaced\n",
    "train_x = torch.linspace(0, 1, 100)\n",
    "test_x = torch.linspace(0, 1, 51)\n",
    "\n",
    "# True function is sin(2*pi*x) with Gaussian noise\n",
    "train_y = torch.sin(train_x * (2 * math.pi)) + torch.randn(train_x.size()) * math.sqrt(0.04)\n",
    "\n",
    "# We will use the simplest form of GP model, exact inference\n",
    "class ExactGPModel(gp.models.ExactGP):\n",
    "    def __init__(self, train_x, train_y, likelihood):\n",
    "        super(ExactGPModel, self).__init__(train_x, train_y, likelihood)\n",
    "        self.mean_module = gp.means.LinearMean()\n",
    "        self.covar_module = gp.kernels.ScaleKernel(gp.kernels.RFFKernel(10))\n",
    "\n",
    "    def forward(self, x):\n",
    "        mean_x = self.mean_module(x)\n",
    "        covar_x = self.covar_module(x)\n",
    "        return gp.distributions.MultivariateNormal(mean_x, covar_x)\n",
    "\n",
    "# initialize likelihood and model\n",
    "likelihood = gp.likelihoods.GaussianLikelihood()\n",
    "model = ExactGPModel(None, None, likelihood)"
   ]
  },
  {
   "cell_type": "code",
   "execution_count": 2,
   "metadata": {},
   "outputs": [
    {
     "data": {
      "text/plain": [
       "tensor(-98.2980, grad_fn=<MulBackward0>)"
      ]
     },
     "execution_count": 2,
     "metadata": {},
     "output_type": "execute_result"
    }
   ],
   "source": [
    "model.eval()\n",
    "likelihood(model(train_x)).log_prob(train_y)"
   ]
  },
  {
   "cell_type": "code",
   "execution_count": 79,
   "metadata": {},
   "outputs": [
    {
     "name": "stdout",
     "output_type": "stream",
     "text": [
      "Iter 1/50 - Loss: 1.002   lengthscale: 0.693   noise: 0.693\n",
      "Iter 2/50 - Loss: 0.975   lengthscale: 0.644   noise: 0.644\n",
      "Iter 3/50 - Loss: 0.948   lengthscale: 0.598   noise: 0.598\n",
      "Iter 4/50 - Loss: 0.922   lengthscale: 0.555   noise: 0.555\n",
      "Iter 5/50 - Loss: 0.899   lengthscale: 0.514   noise: 0.513\n",
      "Iter 6/50 - Loss: 0.877   lengthscale: 0.476   noise: 0.475\n",
      "Iter 7/50 - Loss: 0.857   lengthscale: 0.441   noise: 0.438\n",
      "Iter 8/50 - Loss: 0.839   lengthscale: 0.408   noise: 0.405\n",
      "Iter 9/50 - Loss: 0.823   lengthscale: 0.378   noise: 0.374\n",
      "Iter 10/50 - Loss: 0.809   lengthscale: 0.350   noise: 0.345\n",
      "Iter 11/50 - Loss: 0.798   lengthscale: 0.324   noise: 0.319\n",
      "Iter 12/50 - Loss: 0.789   lengthscale: 0.300   noise: 0.296\n",
      "Iter 13/50 - Loss: 0.782   lengthscale: 0.277   noise: 0.275\n",
      "Iter 14/50 - Loss: 0.776   lengthscale: 0.255   noise: 0.256\n",
      "Iter 15/50 - Loss: 0.772   lengthscale: 0.235   noise: 0.240\n",
      "Iter 16/50 - Loss: 0.767   lengthscale: 0.215   noise: 0.227\n",
      "Iter 17/50 - Loss: 0.761   lengthscale: 0.196   noise: 0.216\n",
      "Iter 18/50 - Loss: 0.752   lengthscale: 0.178   noise: 0.208\n",
      "Iter 19/50 - Loss: 0.740   lengthscale: 0.161   noise: 0.201\n",
      "Iter 20/50 - Loss: 0.722   lengthscale: 0.146   noise: 0.196\n",
      "Iter 21/50 - Loss: 0.697   lengthscale: 0.132   noise: 0.193\n",
      "Iter 22/50 - Loss: 0.665   lengthscale: 0.119   noise: 0.191\n",
      "Iter 23/50 - Loss: 0.622   lengthscale: 0.107   noise: 0.189\n",
      "Iter 24/50 - Loss: 0.566   lengthscale: 0.096   noise: 0.187\n",
      "Iter 25/50 - Loss: 0.493   lengthscale: 0.086   noise: 0.185\n",
      "Iter 26/50 - Loss: 0.399   lengthscale: 0.078   noise: 0.181\n",
      "Iter 27/50 - Loss: 0.287   lengthscale: 0.069   noise: 0.175\n",
      "Iter 28/50 - Loss: 0.191   lengthscale: 0.062   noise: 0.166\n",
      "Iter 29/50 - Loss: 0.206   lengthscale: 0.055   noise: 0.156\n",
      "Iter 30/50 - Loss: 0.283   lengthscale: 0.053   noise: 0.145\n",
      "Iter 31/50 - Loss: 0.228   lengthscale: 0.053   noise: 0.134\n",
      "Iter 32/50 - Loss: 0.118   lengthscale: 0.056   noise: 0.123\n",
      "Iter 33/50 - Loss: 0.039   lengthscale: 0.059   noise: 0.112\n",
      "Iter 34/50 - Loss: 0.015   lengthscale: 0.062   noise: 0.102\n",
      "Iter 35/50 - Loss: 0.028   lengthscale: 0.065   noise: 0.092\n",
      "Iter 36/50 - Loss: 0.031   lengthscale: 0.066   noise: 0.083\n",
      "Iter 37/50 - Loss: 0.007   lengthscale: 0.066   noise: 0.075\n",
      "Iter 38/50 - Loss: -0.049   lengthscale: 0.065   noise: 0.068\n",
      "Iter 39/50 - Loss: -0.125   lengthscale: 0.062   noise: 0.061\n",
      "Iter 40/50 - Loss: -0.167   lengthscale: 0.059   noise: 0.055\n",
      "Iter 41/50 - Loss: -0.142   lengthscale: 0.057   noise: 0.050\n",
      "Iter 42/50 - Loss: -0.124   lengthscale: 0.057   noise: 0.045\n",
      "Iter 43/50 - Loss: -0.186   lengthscale: 0.058   noise: 0.041\n",
      "Iter 44/50 - Loss: -0.223   lengthscale: 0.060   noise: 0.038\n",
      "Iter 45/50 - Loss: -0.199   lengthscale: 0.062   noise: 0.034\n",
      "Iter 46/50 - Loss: -0.170   lengthscale: 0.063   noise: 0.032\n",
      "Iter 47/50 - Loss: -0.190   lengthscale: 0.062   noise: 0.030\n",
      "Iter 48/50 - Loss: -0.225   lengthscale: 0.060   noise: 0.028\n",
      "Iter 49/50 - Loss: -0.202   lengthscale: 0.059   noise: 0.027\n",
      "Iter 50/50 - Loss: -0.174   lengthscale: 0.058   noise: 0.026\n"
     ]
    }
   ],
   "source": [
    "# Find optimal model hyperparameters\n",
    "model.train()\n",
    "likelihood.train()\n",
    "\n",
    "# Use the adam optimizer\n",
    "optimizer = torch.optim.Adam(model.parameters(), lr=0.1)  # Includes GaussianLikelihood parameters\n",
    "\n",
    "# \"Loss\" for GPs - the marginal log likelihood\n",
    "mll = gp.mlls.ExactMarginalLogLikelihood(likelihood, model)\n",
    "\n",
    "for i in range(50):\n",
    "    # Zero gradients from previous iteration\n",
    "    optimizer.zero_grad()\n",
    "    # Output from model\n",
    "    output = model(train_x)\n",
    "    # Calc loss and backprop gradients\n",
    "    loss = -mll(output, train_y)\n",
    "    loss.backward()\n",
    "    print('Iter %d/%d - Loss: %.3f   lengthscale: %.3f   noise: %.3f' % (\n",
    "        i + 1, 50, loss.item(),\n",
    "        model.covar_module.base_kernel.lengthscale.item(),\n",
    "        model.likelihood.noise.item()\n",
    "    ))\n",
    "    optimizer.step()"
   ]
  },
  {
   "cell_type": "code",
   "execution_count": 80,
   "metadata": {},
   "outputs": [
    {
     "data": {
      "image/png": "[encoded data removed]",
      "text/plain": [
       "<Figure size 288x216 with 1 Axes>"
      ]
     },
     "metadata": {
      "needs_background": "light"
     },
     "output_type": "display_data"
    }
   ],
   "source": [
    "model.eval()\n",
    "likelihood.eval()\n",
    "\n",
    "with torch.no_grad(), gp.settings.fast_pred_var():\n",
    "    test_x = torch.linspace(0, 1, 51)\n",
    "    observed_pred = likelihood(model(test_x))\n",
    "\n",
    "with torch.no_grad():\n",
    "    # Initialize plot\n",
    "    f, ax = plt.subplots(1, 1, figsize=(4, 3))\n",
    "\n",
    "    # Get upper and lower confidence bounds\n",
    "    lower, upper = observed_pred.confidence_region()\n",
    "    # Plot training data as black stars\n",
    "    ax.plot(train_x.numpy(), train_y.numpy(), 'k*')\n",
    "    # Plot predictive means as blue line\n",
    "    ax.plot(test_x.numpy(), observed_pred.mean.numpy(), 'b')\n",
    "    # Shade between the lower and upper confidence bounds\n",
    "    ax.fill_between(test_x.numpy(), lower.numpy(), upper.numpy(), alpha=0.5)\n",
    "    ax.set_ylim([-3, 3])\n",
    "    ax.legend(['Observed Data', 'Mean', 'Confidence'])"
   ]
  },
  {
   "cell_type": "code",
   "execution_count": null,
   "metadata": {},
   "outputs": [],
   "source": [
    "from itertools import pairwise\n",
    "from torch import nn, Tensor\n",
    "import gpytorch as gp\n",
    "# from torch.nn.utils.parametrizations import spectral_norm\n",
    "spectral_norm = lambda x: x\n",
    "\n",
    "\n",
    "class RFFGP(gp.models.ExactGP):\n",
    "    def __init__(self, num_features: int, train_x, train_y, likelihood):\n",
    "        super().__init__(train_x, train_y, likelihood)\n",
    "\n",
    "        self.mean_module = gp.means.ConstantMean()\n",
    "        self.covar_module = gp.kernels.ScaleKernel(gp.kernels.RFFKernel(num_features))\n",
    "\n",
    "    def forward(self, x):\n",
    "        mean_x = self.mean_module(x)\n",
    "        covar_x = self.covar_module(x)\n",
    "        return gp.distributions.MultivariateNormal(mean_x, covar_x)\n",
    "\n",
    "class GPLayer(gp.Module):\n",
    "    def __init__(self, train_x = None, train_y = None, *, num_features: int = 1024):\n",
    "        super().__init__()\n",
    "\n",
    "        self.likelihood = gp.likelihoods.GaussianLikelihood()\n",
    "        self.gp = RFFGP(num_features, train_x, train_y, likelihood = self.likelihood)\n",
    "\n",
    "    def forward(self, x):\n",
    "        return self.gp(x)\n",
    "\n",
    "\n",
    "class BayesianPrefModel(nn.Module):\n",
    "    def __init__(self, hiddens: list[int], latent_dim: int = 32):\n",
    "        super().__init__()\n",
    "        hiddens.append(latent_dim)\n",
    "\n",
    "        self.hidden_layers = nn.Sequential()\n",
    "        for i, j in pairwise(hiddens):\n",
    "            self.hidden_layers.append(spectral_norm(nn.Linear(i, j)))\n",
    "            self.hidden_layers.append(nn.ReLU())\n",
    "            self.hidden_layers.append(nn.Dropout(0.1))\n",
    "\n",
    "        self.hidden_layers.append(spectral_norm(nn.Linear(hiddens[-1], 1)))\n",
    "\n",
    "    def forward(self, x: Tensor) -> Tensor:\n",
    "        x = self.hidden_layers(x)\n",
    "        return x.flatten(1).mean(1)\n",
    "\n",
    "    def pref_logit(self, a: Tensor, b: Tensor) -> Tensor:\n",
    "        return self(a) - self(b)\n"
   ]
  },
  {
   "cell_type": "code",
   "execution_count": 8,
   "metadata": {},
   "outputs": [],
   "source": [
    "from itertools import pairwise\n",
    "from torch import nn, Tensor\n",
    "import gpytorch as gp\n",
    "# from torch.nn.utils.parametrizations import spectral_norm\n",
    "spectral_norm = lambda x: x\n",
    "\n",
    "\n",
    "class MlpPrefModel(nn.Module):\n",
    "    def __init__(self, hiddens: list[int]):\n",
    "        super().__init__()\n",
    "\n",
    "        # Normalize observations and actions to have mean 0 and std 1\n",
    "        # self.obs_norm = nn.BatchNorm1d(hiddens[0])\n",
    "        self.hidden_layers = nn.Sequential()\n",
    "\n",
    "        for i, j in pairwise(hiddens):\n",
    "            self.hidden_layers.append(spectral_norm(nn.Linear(i, j)))\n",
    "            self.hidden_layers.append(nn.ReLU())\n",
    "            self.hidden_layers.append(nn.Dropout(0.1))\n",
    "\n",
    "        self.hidden_layers.append(spectral_norm(nn.Linear(hiddens[-1], 1)))\n",
    "    \n",
    "    def forward(self, x: Tensor) -> Tensor:\n",
    "        # x = rearrange(x, 'n l c -> n c l')\n",
    "        # x = self.obs_norm(x)\n",
    "        # x = rearrange(x, 'n c l -> n l c')\n",
    "\n",
    "        x = self.hidden_layers(x)\n",
    "        return x.flatten(1).mean(1)\n",
    "    \n",
    "    def pref_logit(self, a: Tensor, b: Tensor) -> Tensor:\n",
    "        return self(a) - self(b)\n"
   ]
  },
  {
   "cell_type": "code",
   "execution_count": 9,
   "metadata": {},
   "outputs": [
    {
     "name": "stdout",
     "output_type": "stream",
     "text": [
      "scores.grad.norm()=tensor(2.5007e-05)\n"
     ]
    }
   ],
   "source": [
    "from torch import nn, Tensor\n",
    "import torch\n",
    "\n",
    "def permutation_loss(scores: Tensor, labels: Tensor) -> Tensor:\n",
    "    # Sort predicted scores by their GT rewards/ranks, lowest to highest\n",
    "    scores = scores[labels.argsort()]\n",
    "\n",
    "    # We imagine that the GT ranking was generated sequentially in descending\n",
    "    # order, by sampling *without replacement* from the available options in\n",
    "    # proportion to exp(scores). The option set shrinks by one every time a\n",
    "    # choice is made; e.g. the highest ranked option was selected from among the\n",
    "    # entire set of options, the second highest from the whole set minus the\n",
    "    # one just picked, etc. This allows us to efficiently compute the log-likelihood\n",
    "    # of the GT ranking using a log-cumsum-exp trick.\n",
    "    stabilizer = scores.max()\n",
    "    exp_scores = torch.exp(scores - stabilizer)\n",
    "    log_normalizer = exp_scores.cumsum(0).add(1e-7).log()\n",
    "\n",
    "    return -torch.mean(scores - log_normalizer - stabilizer)\n",
    "\n",
    "scores = nn.Parameter(torch.rand(11))\n",
    "for i in range(1000):\n",
    "    scores.grad = None\n",
    "\n",
    "    loss = permutation_loss(scores, torch.arange(11))\n",
    "    loss.backward()\n",
    "\n",
    "    g = scores.grad\n",
    "    with torch.no_grad():\n",
    "        scores -= g\n",
    "\n",
    "print(f\"{scores.grad.norm()=}\")"
   ]
  },
  {
   "cell_type": "code",
   "execution_count": 10,
   "metadata": {},
   "outputs": [
    {
     "name": "stdout",
     "output_type": "stream",
     "text": [
      "np.mean(train_losses)=2.9497359\n",
      "val_corr: 0.9340\n",
      "np.mean(train_losses)=2.1480603\n",
      "val_corr: 0.9512\n",
      "np.mean(train_losses)=1.5736381\n",
      "val_corr: 0.9668\n",
      "np.mean(train_losses)=1.5246235\n",
      "val_corr: 0.9720\n",
      "np.mean(train_losses)=1.512808\n",
      "val_corr: 0.9743\n",
      "np.mean(train_losses)=1.5120249\n",
      "val_corr: 0.9769\n",
      "np.mean(train_losses)=1.5055614\n",
      "val_corr: 0.9776\n",
      "np.mean(train_losses)=1.5073297\n",
      "val_corr: 0.9776\n",
      "np.mean(train_losses)=1.4960634\n",
      "val_corr: 0.9792\n",
      "np.mean(train_losses)=1.4944291\n"
     ]
    }
   ],
   "source": [
    "from scipy.stats import kendalltau, rankdata, spearmanr\n",
    "from torch.optim import AdamW\n",
    "import torch\n",
    "import torch.nn.functional as F\n",
    "\n",
    "\n",
    "class RankCorrelation:\n",
    "    def __init__(self):\n",
    "        self.reset()\n",
    "    \n",
    "    def reset(self):\n",
    "        self.scores = []\n",
    "        self.labels = []\n",
    "    \n",
    "    def update(self, scores: Tensor, labels: Tensor) -> None:\n",
    "        self.scores.append(scores.detach().cpu())\n",
    "        self.labels.append(labels.detach().cpu())\n",
    "    \n",
    "    def compute(self):\n",
    "        scores = np.concatenate(self.scores, axis=0)\n",
    "        labels = np.concatenate(self.labels, axis=0)\n",
    "        return kendalltau(scores, labels).correlation\n",
    "\n",
    "rank_corr = RankCorrelation()\n",
    "\n",
    "def fit(model, train_dl, val_dl):\n",
    "    adam = AdamW(model.parameters())\n",
    "    \n",
    "    last_val_corr = -1.0\n",
    "    while True:\n",
    "        rank_corr.reset()\n",
    "        model.train()\n",
    "        \n",
    "        train_losses = []\n",
    "        for clip_batch, labels in train_dl:\n",
    "            noised_labels = labels#  + torch.randn_like(labels) * torch.std(labels)\n",
    "            loss = permutation_loss(\n",
    "                model(clip_batch.cuda()), noised_labels.cuda()\n",
    "            )\n",
    "            loss.backward()\n",
    "\n",
    "            adam.step()\n",
    "            adam.zero_grad()\n",
    "            train_losses.append(loss.detach().cpu())\n",
    "        \n",
    "        print(f\"{np.mean(train_losses)=}\")\n",
    "        with torch.no_grad():\n",
    "            model.eval()\n",
    "\n",
    "            for clip_batch, rewards in val_dl:\n",
    "                scores = model(clip_batch.cuda())\n",
    "                rank_corr.update(scores, rewards)\n",
    "        \n",
    "        val_corr = rank_corr.compute()\n",
    "        if val_corr < last_val_corr:\n",
    "            break\n",
    "        else:\n",
    "            last_val_corr = val_corr\n",
    "\n",
    "        print(f'val_corr: {val_corr.item():.4f}')\n",
    "\n",
    "# model = TransformerPrefModel(256, 1).cuda()\n",
    "model = MlpPrefModel([95, 32, 16]).cuda()\n",
    "fit(model, train_dl, val_dl)"
   ]
  },
  {
   "cell_type": "code",
   "execution_count": 19,
   "metadata": {},
   "outputs": [
    {
     "data": {
      "text/plain": [
       "<matplotlib.collections.PathCollection at 0x7fe067343ca0>"
      ]
     },
     "execution_count": 19,
     "metadata": {},
     "output_type": "execute_result"
    },
    {
     "data": {
      "image/png": "[encoded data removed]",
      "text/plain": [
       "<Figure size 432x288 with 1 Axes>"
      ]
     },
     "metadata": {
      "needs_background": "light"
     },
     "output_type": "display_data"
    }
   ],
   "source": [
    "import matplotlib.pyplot as plt\n",
    "\n",
    "plt.scatter(\n",
    "    np.concatenate(rank_corr.scores, axis=0),\n",
    "    np.concatenate(rank_corr.labels, axis=0),\n",
    ")"
   ]
  },
  {
   "cell_type": "code",
   "execution_count": 13,
   "metadata": {},
   "outputs": [
    {
     "data": {
      "text/plain": [
       "(array([ 90.,  20.,  70., 107.,  85.,  92.,  78.,  55.,  70.,  85.]),\n",
       " array([-0.4168706 , -0.09938006,  0.21811047,  0.535601  ,  0.85309154,\n",
       "         1.170582  ,  1.4880726 ,  1.8055631 ,  2.1230536 ,  2.4405441 ,\n",
       "         2.7580347 ], dtype=float32),\n",
       " <BarContainer object of 10 artists>)"
      ]
     },
     "execution_count": 13,
     "metadata": {},
     "output_type": "execute_result"
    },
    {
     "data": {
      "image/png": "[encoded data removed]",
      "text/plain": [
       "<Figure size 432x288 with 1 Axes>"
      ]
     },
     "metadata": {
      "needs_background": "light"
     },
     "output_type": "display_data"
    }
   ],
   "source": [
    "import matplotlib.pyplot as plt\n",
    "\n",
    "plt.hist(np.concatenate(rank_corr.scores))"
   ]
  },
  {
   "cell_type": "code",
   "execution_count": 18,
   "metadata": {},
   "outputs": [
    {
     "data": {
      "text/plain": [
       "814593"
      ]
     },
     "execution_count": 18,
     "metadata": {},
     "output_type": "execute_result"
    }
   ],
   "source": [
    "sum(param.numel() for param in model.parameters())"
   ]
  },
  {
   "cell_type": "code",
   "execution_count": 44,
   "metadata": {},
   "outputs": [
    {
     "data": {
      "text/plain": [
       "(752,)"
      ]
     },
     "execution_count": 44,
     "metadata": {},
     "output_type": "execute_result"
    }
   ],
   "source": [
    "np.concatenate(rank_corr.labels).shape"
   ]
  },
  {
   "cell_type": "code",
   "execution_count": null,
   "metadata": {},
   "outputs": [],
   "source": []
  }
 ],
 "metadata": {
  "interpreter": {
   "hash": "a39329acca1a3d02fca9c88ece2d4c9020663dc4ac833feed55385c6fe0d6d1c"
  },
  "kernelspec": {
   "display_name": "Conda (base)",
   "language": "python",
   "name": "base"
  },
  "language_info": {
   "codemirror_mode": {
    "name": "ipython",
    "version": 3
   },
   "file_extension": ".py",
   "mimetype": "text/x-python",
   "name": "python",
   "nbconvert_exporter": "python",
   "pygments_lexer": "ipython3",
   "version": "3.10.0"
  },
  "orig_nbformat": 4
 },
 "nbformat": 4,
 "nbformat_minor": 2
}
