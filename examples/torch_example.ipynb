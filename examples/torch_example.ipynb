{
 "cells": [
  {
   "cell_type": "code",
   "execution_count": 7,
   "metadata": {},
   "outputs": [],
   "source": [
    "from itertools import pairwise\n",
    "from torch import nn, Tensor\n",
    "# from torch.nn.utils.parametrizations import spectral_norm\n",
    "spectral_norm = lambda x: x\n",
    "\n",
    "\n",
    "class TransformerPrefModel(nn.Module):\n",
    "    def __init__(self, d_model: int, num_layers: int):\n",
    "        super().__init__()\n",
    "        assert d_model % 64 == 0, \"d_model must be divisible by 64\"\n",
    "\n",
    "        self.input_linear = nn.LazyLinear(d_model)\n",
    "        self.transformer = nn.TransformerEncoder(\n",
    "            nn.TransformerEncoderLayer(\n",
    "                d_model, nhead=d_model // 64, dim_feedforward=d_model * 4,\n",
    "                activation='gelu', batch_first=True, norm_first=True\n",
    "            ),\n",
    "            num_layers=num_layers\n",
    "        )\n",
    "        self.reward_linear = nn.Linear(d_model, 1)\n",
    "    \n",
    "    def forward(self, x: Tensor) -> Tensor:\n",
    "        x = self.input_linear(x)\n",
    "        x = self.transformer(x)\n",
    "        x = self.reward_linear(x)\n",
    "        return x.flatten(1).sum(1)\n",
    "    \n",
    "    def pref_logit(self, a: Tensor, b: Tensor) -> Tensor:\n",
    "        return self(a) - self(b)\n"
   ]
  },
  {
   "cell_type": "code",
   "execution_count": 50,
   "metadata": {},
   "outputs": [],
   "source": [
    "import gpytorch as gp\n",
    "import math\n",
    "\n",
    "\n",
    "class VariationalGP(gp.models.ApproximateGP):\n",
    "    def __init__(self, num_dim, grid_bounds=(-10., 10.), grid_size=64):\n",
    "        variational_distribution = gp.variational.CholeskyVariationalDistribution(\n",
    "            num_inducing_points=grid_size, batch_shape=torch.Size([num_dim])\n",
    "        )\n",
    "\n",
    "        # Our base variational strategy is a GridInterpolationVariationalStrategy,\n",
    "        # which places variational inducing points on a Grid\n",
    "        variational_strategy = gp.variational.GridInterpolationVariationalStrategy(\n",
    "            self, grid_size=grid_size, grid_bounds=[grid_bounds],\n",
    "            variational_distribution=variational_distribution,\n",
    "        )\n",
    "        super().__init__(variational_strategy)\n",
    "\n",
    "        self.covar_module = gp.kernels.ScaleKernel(\n",
    "            gp.kernels.RBFKernel(\n",
    "                lengthscale_prior=gp.priors.SmoothedBoxPrior(\n",
    "                    math.exp(-1), math.exp(1), sigma=0.1, transform=torch.exp\n",
    "                )\n",
    "            )\n",
    "        )\n",
    "        self.mean_module = gp.means.ConstantMean()\n",
    "        self.grid_bounds = grid_bounds\n",
    "\n",
    "    def forward(self, x):\n",
    "        mean = self.mean_module(x)\n",
    "        covar = self.covar_module(x)\n",
    "        return gp.distributions.MultivariateNormal(mean, covar)\n",
    "\n"
   ]
  },
  {
   "cell_type": "code",
   "execution_count": 8,
   "metadata": {},
   "outputs": [],
   "source": [
    "from sngp_torch import RandomFeatureGP\n",
    "from itertools import pairwise\n",
    "from torch import nn, Tensor\n",
    "from torch.distributions import MultivariateNormal, Normal\n",
    "from torch.nn.utils.parametrizations import spectral_norm\n",
    "import gpytorch as gp\n",
    "\n",
    "\n",
    "class VariationalPrefModel(nn.Module):\n",
    "    def __init__(self, hiddens: list[int]):\n",
    "        super().__init__()\n",
    "\n",
    "        # Normalize observations and actions to have mean 0 and std 1\n",
    "        # self.obs_norm = nn.BatchNorm1d(hiddens[0])\n",
    "        self.hidden_layers = nn.Sequential()\n",
    "\n",
    "        for i, j in pairwise(hiddens):\n",
    "            self.hidden_layers.append(spectral_norm(nn.Linear(i, j)))\n",
    "            self.hidden_layers.append(nn.ReLU())\n",
    "            self.hidden_layers.append(nn.Dropout(0.1))\n",
    "\n",
    "        self.gp = VariationalGP(hiddens[-1])\n",
    "    \n",
    "    def forward(self, x: Tensor) -> Tensor:\n",
    "        x = self.hidden_layers(x)\n",
    "        return self.gp(x).flatten(1).mean(1)\n",
    "    \n",
    "    def posterior(self, x: Tensor) -> MultivariateNormal | Normal:\n",
    "        x = self.hidden_layers(x)\n",
    "        return self.gp(x)\n",
    "    \n",
    "    def pref_logit(self, a: Tensor, b: Tensor) -> Tensor:\n",
    "        return self(a) - self(b)\n",
    "\n"
   ]
  },
  {
   "cell_type": "code",
   "execution_count": 10,
   "metadata": {},
   "outputs": [
    {
     "name": "stdout",
     "output_type": "stream",
     "text": [
      "scores.grad.norm()=tensor(2.5628e-05)\n"
     ]
    }
   ],
   "source": [
    "from torch import nn, Tensor\n",
    "import torch\n",
    "\n",
    "def permutation_loss(scores: Tensor, labels: Tensor) -> Tensor:\n",
    "    # Sort predicted scores by their GT rewards/ranks, lowest to highest\n",
    "    scores = scores[labels.argsort()]\n",
    "\n",
    "    # We imagine that the GT ranking was generated sequentially in descending\n",
    "    # order, by sampling *without replacement* from the available options in\n",
    "    # proportion to exp(scores). The option set shrinks by one every time a\n",
    "    # choice is made; e.g. the highest ranked option was selected from among the\n",
    "    # entire set of options, the second highest from the whole set minus the\n",
    "    # one just picked, etc. This allows us to efficiently compute the log-likelihood\n",
    "    # of the GT ranking using a log-cumsum-exp trick.\n",
    "    stabilizer = scores.max()\n",
    "    exp_scores = torch.exp(scores - stabilizer)\n",
    "    log_normalizer = exp_scores.cumsum(0).add(1e-7).log()\n",
    "\n",
    "    return -torch.mean(scores - log_normalizer - stabilizer)\n",
    "\n",
    "scores = nn.Parameter(torch.rand(11))\n",
    "for i in range(1000):\n",
    "    scores.grad = None\n",
    "\n",
    "    loss = permutation_loss(scores, torch.arange(11))\n",
    "    loss.backward()\n",
    "\n",
    "    g = scores.grad\n",
    "    with torch.no_grad():\n",
    "        scores -= g\n",
    "\n",
    "print(f\"{scores.grad.norm()=}\")"
   ]
  },
  {
   "cell_type": "code",
   "execution_count": 1,
   "metadata": {},
   "outputs": [],
   "source": [
    "from classroom.datasets import SyntheticPairwisePrefs\n",
    "import numpy as np\n",
    "\n",
    "\n",
    "ds = SyntheticPairwisePrefs(\n",
    "    '/home/nora/value-learning/ant/seed_0',\n",
    "    transform=lambda x: torch.from_numpy(\n",
    "        np.concatenate([x.state.obs, x.action], axis=-1)\n",
    "    )\n",
    ")"
   ]
  },
  {
   "cell_type": "code",
   "execution_count": 47,
   "metadata": {},
   "outputs": [],
   "source": [
    "from torch import nn, Tensor\n",
    "from typing import Iterable, SupportsFloat\n",
    "import torch\n",
    "import torch.nn.functional as F\n",
    "\n",
    "\n",
    "def mean_update(running_mean, new_value, n: int):\n",
    "    \"\"\"Online update of a running mean.\"\"\"\n",
    "    return (n * running_mean + new_value) / (n + 1)\n",
    "\n",
    "\n",
    "class PairwisePrefModel(nn.Module):\n",
    "    def pref_logit(self, a: Tensor, b: Tensor) -> Tensor:\n",
    "        batch = torch.cat([a, b])\n",
    "        a_pred, b_pred = self(batch).chunk(2)\n",
    "        return a_pred - b_pred\n",
    "    \n",
    "    @torch.no_grad()\n",
    "    def test(self, data: Iterable[tuple[Tensor, Tensor, Tensor]]) -> dict[str, float]:\n",
    "        was_training = self.training\n",
    "        self.eval()\n",
    "\n",
    "        metrics: dict[str, SupportsFloat] = {'accuracy': 0, 'loss': 0}\n",
    "        for i, (a, b, pref) in enumerate(data):\n",
    "            pref = pref.cuda()\n",
    "            pref_logit = self.pref_logit(a.cuda(), b.cuda())\n",
    "            hits = pref == (pref_logit > 0)\n",
    "\n",
    "            metrics['accuracy'] = mean_update(\n",
    "                metrics['accuracy'], hits.float().mean(), i\n",
    "            )\n",
    "            metrics['loss'] = mean_update(\n",
    "                metrics['loss'],\n",
    "                F.binary_cross_entropy_with_logits(pref_logit, pref.float()), i\n",
    "            )\n",
    "        \n",
    "        self.training = was_training\n",
    "        return {k: float(v) for k, v in metrics.items()}\n"
   ]
  },
  {
   "cell_type": "code",
   "execution_count": 48,
   "metadata": {},
   "outputs": [],
   "source": [
    "from sngp_torch import RandomFeatureGP\n",
    "from itertools import pairwise\n",
    "from torch import nn, Tensor\n",
    "from torch.distributions import MultivariateNormal, Normal\n",
    "from torch.nn.utils.parametrizations import spectral_norm\n",
    "import gpytorch as gp\n",
    "\n",
    "\n",
    "class GpPrefModel(PairwisePrefModel):\n",
    "    def __init__(self, hiddens: list[int]):\n",
    "        super().__init__()\n",
    "\n",
    "        # Normalize observations and actions to have mean 0 and std 1\n",
    "        self.hidden_layers = nn.Sequential()\n",
    "\n",
    "        for i, j in pairwise(hiddens):\n",
    "            self.hidden_layers.append(spectral_norm(nn.Linear(i, j)))\n",
    "            self.hidden_layers.append(nn.ReLU())\n",
    "            self.hidden_layers.append(nn.Dropout(0.1))\n",
    "\n",
    "        self.gp = RandomFeatureGP(hiddens[-1], 1, loss_fn=None)\n",
    "    \n",
    "    def forward(self, x: Tensor) -> Tensor:\n",
    "        x = self.hidden_layers(x)\n",
    "        return self.gp(x).flatten(1).mean(1)\n",
    "    \n",
    "    def posterior(self, x: Tensor) -> MultivariateNormal | Normal:\n",
    "        x = self.hidden_layers(x)\n",
    "        return self.gp.posterior(x)\n",
    "    \n",
    "    def update_covariance(self, x: Tensor, labels: Tensor):\n",
    "        hidden = self.hidden_layers(x)\n",
    "        phi = self.gp.featurize(hidden)\n",
    "\n",
    "        def loss_fn(w):\n",
    "            scores = torch.squeeze(phi @ w.T + self.gp.linear.bias)\n",
    "            return permutation_loss(scores, labels)\n",
    "        \n",
    "        hess = torch.autograd.functional.hessian(\n",
    "            loss_fn, self.gp.linear.weight, vectorize=True\n",
    "        )\n",
    "        assert isinstance(hess, Tensor)\n",
    "        self.gp.update_precision(hess.squeeze().cuda())\n"
   ]
  },
  {
   "cell_type": "code",
   "execution_count": 49,
   "metadata": {},
   "outputs": [],
   "source": [
    "from sngp_torch import RandomFeatureGP\n",
    "from itertools import pairwise\n",
    "from torch import nn, Tensor\n",
    "from torch.distributions import MultivariateNormal, Normal\n",
    "from torch.nn.utils.parametrizations import spectral_norm\n",
    "import gpytorch as gp\n",
    "\n",
    "\n",
    "class MlpPrefModel(PairwisePrefModel):\n",
    "    def __init__(self, hiddens: list[int]):\n",
    "        super().__init__()\n",
    "\n",
    "        # Normalize observations and actions to have mean 0 and std 1\n",
    "        self.hidden_layers = nn.Sequential()\n",
    "\n",
    "        for i, j in pairwise(hiddens):\n",
    "            self.hidden_layers.append(spectral_norm(nn.Linear(i, j)))\n",
    "            self.hidden_layers.append(nn.ReLU())\n",
    "            self.hidden_layers.append(nn.Dropout(0.1))\n",
    "\n",
    "        self.output = nn.Linear(hiddens[-1], 1)\n",
    "    \n",
    "    def forward(self, x: Tensor) -> Tensor:\n",
    "        x = self.hidden_layers(x)\n",
    "        return self.output(x).flatten(1).mean(1)\n"
   ]
  },
  {
   "cell_type": "code",
   "execution_count": 7,
   "metadata": {},
   "outputs": [],
   "source": [
    "from scipy.stats import kendalltau, rankdata, spearmanr\n",
    "from torch.optim import AdamW\n",
    "from torch import Tensor\n",
    "import torch\n",
    "import torch.nn.functional as F\n",
    "\n",
    "\n",
    "class RankCorrelation:\n",
    "    def __init__(self):\n",
    "        self.reset()\n",
    "    \n",
    "    def reset(self):\n",
    "        self.scores = []\n",
    "        self.labels = []\n",
    "    \n",
    "    def update(self, scores: Tensor, labels: Tensor) -> None:\n",
    "        self.scores.append(scores.detach().cpu())\n",
    "        self.labels.append(labels.detach().cpu())\n",
    "    \n",
    "    def compute(self):\n",
    "        scores = np.concatenate(self.scores, axis=0)\n",
    "        labels = np.concatenate(self.labels, axis=0)\n",
    "        return kendalltau(scores, labels).correlation\n",
    "\n",
    "rank_corr = RankCorrelation()\n",
    "\n",
    "def permutation_fit(model, train_dl, val_dl):\n",
    "    adam = AdamW(model.parameters())\n",
    "    \n",
    "    last_val_corr = -1.0\n",
    "    val_corr = 0.0\n",
    "\n",
    "    while True:\n",
    "        rank_corr.reset()\n",
    "        model.train()\n",
    "        \n",
    "        train_losses = []\n",
    "        for clip_batch, labels in train_dl:\n",
    "            clip_batch, labels = clip_batch.cuda(), labels.cuda()\n",
    "            noised_labels = labels + torch.randn_like(labels) * torch.std(labels)\n",
    "            loss = permutation_loss(model(clip_batch), noised_labels)\n",
    "            loss.backward()\n",
    "\n",
    "            adam.step()\n",
    "            adam.zero_grad()\n",
    "            train_losses.append(loss.detach().cpu())\n",
    "\n",
    "        with torch.no_grad():\n",
    "            model.eval()\n",
    "\n",
    "            for clip_batch, rewards in val_dl:\n",
    "                scores = model(clip_batch.cuda())\n",
    "                rank_corr.update(scores, rewards)\n",
    "        \n",
    "        val_corr = rank_corr.compute()\n",
    "        if val_corr < last_val_corr:\n",
    "            break\n",
    "        else:\n",
    "            last_val_corr = val_corr\n",
    "    \n",
    "    return val_corr\n",
    "\n",
    "# model = TransformerPrefModel(256, 1).cuda()"
   ]
  },
  {
   "cell_type": "code",
   "execution_count": 82,
   "metadata": {},
   "outputs": [],
   "source": [
    "from torch import Tensor\n",
    "import torch.nn.functional as F\n",
    "\n",
    "\n",
    "def pairwise_fit(model: PairwisePrefModel, train_dl, val_dl, max_epochs: int = 100):\n",
    "    adam = AdamW(model.parameters())\n",
    "\n",
    "    last_val_acc = 0\n",
    "    last_val_loss = torch.inf\n",
    "\n",
    "    for _ in range(max_epochs):\n",
    "        rank_corr.reset()\n",
    "        model.train()\n",
    "\n",
    "        train_losses = []\n",
    "        for left_clips, right_clips, prefs in train_dl:\n",
    "            prefs = prefs.cuda().float()\n",
    "\n",
    "            logits = model.pref_logit(left_clips.cuda(), right_clips.cuda())\n",
    "            loss = F.binary_cross_entropy_with_logits(logits, prefs)\n",
    "            loss.backward()\n",
    "\n",
    "            adam.step()\n",
    "            adam.zero_grad()\n",
    "            train_losses.append(loss.detach().cpu())\n",
    "\n",
    "        val_metrics = model.test(val_dl)\n",
    "        if val_metrics['accuracy'] < last_val_acc:\n",
    "            break\n",
    "        else:\n",
    "            last_val_acc = val_metrics['accuracy']\n",
    "            last_val_loss = val_metrics['loss']\n",
    "\n",
    "        # print(f'val_corr: {val_corr.item():.4f}')\n",
    "    \n",
    "    # with model.gp.record_covariance(), torch.no_grad():\n",
    "    #     for clip_batch, labels in train_dl:\n",
    "    #         noised_labels = labels + torch.randn_like(labels) * torch.std(labels)\n",
    "    #         model.update_covariance(clip_batch.cuda(), labels.cuda())\n",
    "\n",
    "    return val_metrics"
   ]
  },
  {
   "cell_type": "code",
   "execution_count": 83,
   "metadata": {},
   "outputs": [
    {
     "data": {
      "image/png": "[encoded data removed]",
      "text/plain": [
       "<Figure size 432x288 with 1 Axes>"
      ]
     },
     "metadata": {
      "needs_background": "light"
     },
     "output_type": "display_data"
    }
   ],
   "source": [
    "from torch.utils.data import DataLoader\n",
    "from torch.utils.data import random_split\n",
    "import torch\n",
    "\n",
    "test_len = round(len(ds) * 0.2)\n",
    "train_val, test = random_split(ds, [len(ds) - test_len, test_len])\n",
    "test_dl = DataLoader(test, batch_size=64)\n",
    "\n",
    "def train_partial(frac: float = 1.0):\n",
    "    torch.manual_seed(0)\n",
    "\n",
    "    data_len = round(len(train_val) * frac)\n",
    "    #print(f\"{len(ds)=} {frac=} {[len(ds), len(ds) - data_len]=}\")\n",
    "    data, _ = random_split(train_val, [data_len, len(train_val) - data_len])\n",
    "\n",
    "    val_len = max(1, round(len(data) * 0.2))\n",
    "    train, val = random_split(data, [len(data) - val_len, val_len])\n",
    "\n",
    "    train_dl = DataLoader(train, batch_size=64, shuffle=True)\n",
    "    val_dl = DataLoader(val, batch_size=64)\n",
    "\n",
    "    model = GpPrefModel([95, 64, 32, 16]).cuda()\n",
    "    pairwise_fit(model, train_dl, val_dl)\n",
    "    return model.test(test_dl)['accuracy']\n",
    "\n",
    "import matplotlib.pyplot as plt\n",
    "x = np.logspace(-2.5, 0, 50)\n",
    "plt.plot(x, [train_partial(frac) for frac in x])\n",
    "plt.xscale('log')"
   ]
  },
  {
   "cell_type": "code",
   "execution_count": 73,
   "metadata": {},
   "outputs": [
    {
     "data": {
      "text/plain": [
       "0.8582589626312256"
      ]
     },
     "execution_count": 73,
     "metadata": {},
     "output_type": "execute_result"
    }
   ],
   "source": [
    "train_partial(0.1)"
   ]
  },
  {
   "cell_type": "code",
   "execution_count": 81,
   "metadata": {},
   "outputs": [
    {
     "data": {
      "text/plain": [
       "0.8661688684663986"
      ]
     },
     "execution_count": 81,
     "metadata": {},
     "output_type": "execute_result"
    }
   ],
   "source": [
    "ds.max_accuracy()"
   ]
  },
  {
   "cell_type": "code",
   "execution_count": 31,
   "metadata": {},
   "outputs": [
    {
     "data": {
      "text/plain": [
       "tensor([5.1094, 5.0989, 5.1151, 5.1273, 5.1902, 5.1028, 5.0881, 5.0986, 5.1028,\n",
       "        5.1046, 5.1028, 5.1029, 5.1010, 5.1028, 5.1200, 5.1028, 5.1028, 5.1028,\n",
       "        5.1404, 5.2478, 5.1028, 5.1028, 5.1028, 5.1666, 5.1028, 5.1029, 5.2058,\n",
       "        5.1124, 5.1028, 5.1065, 5.2501, 5.1028, 5.1049, 5.1079, 5.1028, 5.1028,\n",
       "        5.1138, 5.1894, 5.1190, 5.1060, 5.1028, 5.1028, 5.1018, 5.1028, 5.1398,\n",
       "        5.1622, 5.1102, 5.1028, 5.1028, 5.1028, 5.1028, 5.0867, 5.1031, 5.1027,\n",
       "        5.0975, 5.1230, 5.1028, 5.1237, 5.1133, 5.1184, 5.1028, 5.1028, 5.1028,\n",
       "        5.1028, 5.1016, 5.0950, 5.1028, 5.1028, 5.0888, 5.1028, 5.1145, 5.1028,\n",
       "        5.1028, 5.1028, 5.1092, 5.1028, 5.1068, 5.1028, 5.1028, 5.1056, 5.3261,\n",
       "        5.1127, 5.1065, 5.1028, 5.1039, 5.1028, 5.0869, 5.1032, 5.1813, 5.1175,\n",
       "        5.1028, 5.1035, 5.1025, 5.1028, 5.1067, 5.1028, 5.0894, 5.1078, 5.1182,\n",
       "        5.0997, 5.1028, 5.1028, 5.1028, 5.1087, 5.1028, 5.1028, 5.1040, 5.1028,\n",
       "        5.1028, 5.1067, 5.1028, 5.1786, 5.1124, 5.1062, 5.0994, 5.1079, 5.1145,\n",
       "        5.1028, 5.1028, 5.1406], device='cuda:0', grad_fn=<SqrtBackward0>)"
      ]
     },
     "execution_count": 31,
     "metadata": {},
     "output_type": "execute_result"
    }
   ],
   "source": [
    "model.posterior(torch.from_numpy(val[0][0]).cuda()).stddev"
   ]
  },
  {
   "cell_type": "code",
   "execution_count": 13,
   "metadata": {},
   "outputs": [
    {
     "data": {
      "text/plain": [
       "(120, 95)"
      ]
     },
     "execution_count": 13,
     "metadata": {},
     "output_type": "execute_result"
    }
   ],
   "source": [
    "train[0][0].shape"
   ]
  },
  {
   "cell_type": "code",
   "execution_count": 44,
   "metadata": {},
   "outputs": [
    {
     "data": {
      "text/plain": [
       "<matplotlib.collections.PathCollection at 0x7fe283aaa9e0>"
      ]
     },
     "execution_count": 44,
     "metadata": {},
     "output_type": "execute_result"
    },
    {
     "data": {
      "image/png": "[encoded data removed]",
      "text/plain": [
       "<Figure size 432x288 with 1 Axes>"
      ]
     },
     "metadata": {
      "needs_background": "light"
     },
     "output_type": "display_data"
    }
   ],
   "source": [
    "import matplotlib.pyplot as plt\n",
    "\n",
    "plt.scatter(\n",
    "    np.concatenate(rank_corr.scores, axis=0),\n",
    "    np.concatenate(rank_corr.labels, axis=0),\n",
    ")"
   ]
  },
  {
   "cell_type": "code",
   "execution_count": 13,
   "metadata": {},
   "outputs": [
    {
     "data": {
      "text/plain": [
       "(array([ 90.,  20.,  70., 107.,  85.,  92.,  78.,  55.,  70.,  85.]),\n",
       " array([-0.4168706 , -0.09938006,  0.21811047,  0.535601  ,  0.85309154,\n",
       "         1.170582  ,  1.4880726 ,  1.8055631 ,  2.1230536 ,  2.4405441 ,\n",
       "         2.7580347 ], dtype=float32),\n",
       " <BarContainer object of 10 artists>)"
      ]
     },
     "execution_count": 13,
     "metadata": {},
     "output_type": "execute_result"
    },
    {
     "data": {
      "image/png": "[encoded data removed]",
      "text/plain": [
       "<Figure size 432x288 with 1 Axes>"
      ]
     },
     "metadata": {
      "needs_background": "light"
     },
     "output_type": "display_data"
    }
   ],
   "source": [
    "import matplotlib.pyplot as plt\n",
    "\n",
    "plt.hist(np.concatenate(rank_corr.scores))"
   ]
  },
  {
   "cell_type": "code",
   "execution_count": 18,
   "metadata": {},
   "outputs": [
    {
     "data": {
      "text/plain": [
       "814593"
      ]
     },
     "execution_count": 18,
     "metadata": {},
     "output_type": "execute_result"
    }
   ],
   "source": [
    "sum(param.numel() for param in model.parameters())"
   ]
  },
  {
   "cell_type": "code",
   "execution_count": 44,
   "metadata": {},
   "outputs": [
    {
     "data": {
      "text/plain": [
       "(752,)"
      ]
     },
     "execution_count": 44,
     "metadata": {},
     "output_type": "execute_result"
    }
   ],
   "source": [
    "np.concatenate(rank_corr.labels).shape"
   ]
  },
  {
   "cell_type": "code",
   "execution_count": null,
   "metadata": {},
   "outputs": [],
   "source": []
  }
 ],
 "metadata": {
  "interpreter": {
   "hash": "a39329acca1a3d02fca9c88ece2d4c9020663dc4ac833feed55385c6fe0d6d1c"
  },
  "kernelspec": {
   "display_name": "Conda (base)",
   "language": "python",
   "name": "base"
  },
  "language_info": {
   "codemirror_mode": {
    "name": "ipython",
    "version": 3
   },
   "file_extension": ".py",
   "mimetype": "text/x-python",
   "name": "python",
   "nbconvert_exporter": "python",
   "pygments_lexer": "ipython3",
   "version": "3.10.0"
  },
  "orig_nbformat": 4
 },
 "nbformat": 4,
 "nbformat_minor": 2
}
