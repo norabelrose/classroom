{
 "cells": [
  {
   "cell_type": "markdown",
   "metadata": {},
   "source": [
    "**Fitting a reward model offline**\n",
    "\n",
    "In this example, we'll train a vanilla PPO agent on the Brax Ant environment using the \"ground truth\" reward provided by the environment. We'll then fit a reward model to the resulting clips.\n",
    "\n",
    "In order to do this, we'll need to \"record\" a subset of the environment states visited by the agent during the training process. For this we can use the `BraxRecorder` environment wrapper class, which uses JAX host callbacks to efficiently record these states without interrupting Brax's wicked fast all-GPU training loop."
   ]
  },
  {
   "cell_type": "code",
   "execution_count": null,
   "metadata": {},
   "outputs": [],
   "source": [
    "from brax.envs import create_fn\n",
    "from brax.training import ppo\n",
    "from classroom.brax import BraxRecorder\n",
    "import numpy as np\n",
    "\n",
    "train_sps = []\n",
    "\n",
    "def progress(_, metrics):\n",
    "    train_sps.append(metrics['speed/sps'])\n",
    "\n",
    "def env_fn(name: str, db_path: str):\n",
    "    brax_fn = create_fn(env_name=name)\n",
    "    return lambda *args, **kwargs: BraxRecorder(brax_fn(*args, **kwargs), db_path)\n",
    "\n",
    "\n",
    "ppo.train(\n",
    "    environment_fn=env_fn('ant', '~/classroom/ant'), num_timesteps = 30_000_000,\n",
    "    log_frequency = 10, reward_scaling = .1, episode_length = 1000,\n",
    "    normalize_observations = True, action_repeat = 1, unroll_length = 5,\n",
    "    num_minibatches = 32, num_update_epochs = 4, discounting = 0.97,\n",
    "    learning_rate = 3e-4, entropy_cost = 1e-2, num_envs = 2048,\n",
    "    batch_size = 1024, progress_fn = progress\n",
    ")\n",
    "\n",
    "print(f'train steps/sec: {np.mean(train_sps[1:])}')"
   ]
  },
  {
   "cell_type": "markdown",
   "metadata": {},
   "source": [
    "If you like, you can now use the Classroom GUI to input your own preferences on the resulting clips. For this example, though, we'll simulate the human preference feedback by stochastically generating preferences based on the ground truth rewards. `SyntheticPairwisePrefs` samples the preference for each pair of clips from a mixture distribution with two components:\n",
    "- a distribution based on the [Bradley-Terry model](https://en.wikipedia.org/wiki/Bradley%E2%80%93Terry_model) of pairwise comparison, where the probability of preferring A to B is equal to the sigmoid of the difference in \"scores\" of A and B, and\n",
    "- a uniform distribution over the two clips, representing the possibility of the human making a \"mistake\" and selecting a clip at random.\n",
    "\n",
    "The \"scores\" for the Bradley-Terry distribution are the rescaled sums of rewards for each clip. `SyntheticPairwisePrefs` normalizes the rewards to zero mean and unit variance, then scales them by a \"rationality\" parameter β which defaults to 5.0. You can also choose the weight assigned to the mistake distribution with the `mistake_prob` parameter; by default it is set to 0.1.\n",
    "\n",
    "Note that the total number of pairwise comparisons in any dataset scales quadratically with the dataset size, which could easily get unwieldy with even medium-size datasets. Training a model on all `N(N - 1) // 2` pairs of clips could also lead to overfitting since the model will see each clip many times per epoch. To prevent this, `SyntheticPairwisePrefs` samples a subset of `N` clip pairs _without replacement_ by shuffling the dataset and creating pairs from adjacent clips in the shuffled dataset. The random seed used to sample clip pairs and preferences can be set using the `seed` parameter and defaults to 0."
   ]
  },
  {
   "cell_type": "code",
   "execution_count": 56,
   "metadata": {},
   "outputs": [],
   "source": [
    "from classroom.datasets import SyntheticPairwisePrefs, SyntheticListwisePrefs\n",
    "import jax.numpy as jnp\n",
    "import numpy as np\n",
    "\n",
    "\n",
    "ds = SyntheticPairwisePrefs(\n",
    "    '/home/nora/value-learning/ant/seed_0',\n",
    "    # batch_size=64,\n",
    "    # mistake_prob=0.01,\n",
    "    transform=lambda x: np.concatenate([x.state.obs, x.action], axis=-1)\n",
    ")"
   ]
  },
  {
   "cell_type": "code",
   "execution_count": 57,
   "metadata": {},
   "outputs": [],
   "source": [
    "from classroom.datasets import BatchedDataset, SubsetDataset\n",
    "import numpy as np\n",
    "\n",
    "indices = np.random.permutation(len(ds))\n",
    "test_size = round(len(ds) * 0.2)\n",
    "\n",
    "test = SubsetDataset(ds, indices[:test_size])\n",
    "# val = SubsetDataset(ds, indices[test_size:test_size * 2])\n",
    "# train = SubsetDataset(ds, indices[test_size * 2:])\n",
    "val = BatchedDataset(SubsetDataset(ds, indices[test_size:test_size * 2]), 64)\n",
    "train = BatchedDataset(SubsetDataset(ds, indices[test_size * 2:]), 64)"
   ]
  },
  {
   "cell_type": "markdown",
   "metadata": {},
   "source": [
    "We recommend implementing your preference model as a subclass of `classroom.jax.PairwisePrefModel` if possible, since this base class implements most of the training loop boilerplate code for you."
   ]
  },
  {
   "cell_type": "code",
   "execution_count": 58,
   "metadata": {},
   "outputs": [],
   "source": [
    "from classroom.jax import ListwisePrefModel, PairwisePrefModel\n",
    "import flax.linen as nn\n",
    "import jax.numpy as jnp\n",
    "\n",
    "\n",
    "class MlpPrefModel(PairwisePrefModel):\n",
    "    hidden_layers: list[int]\n",
    "\n",
    "    @nn.compact\n",
    "    def __call__(self, x: jnp.ndarray) -> jnp.ndarray:\n",
    "        for size in self.hidden_layers:\n",
    "            x = nn.Dense(size)(x)\n",
    "            x = nn.activation.relu(x)\n",
    "            # x = nn.Dropout(0.1)(x, deterministic=eval)\n",
    "        \n",
    "        # scores, var = RandomFeatureGaussianProcess(1)(x)\n",
    "        scores = nn.Dense(1)(x)\n",
    "        return jnp.mean(scores.squeeze(-1), axis=-1)"
   ]
  },
  {
   "cell_type": "markdown",
   "metadata": {},
   "source": [
    "Training the model is as simple as calling `model.fit()` with your training and validation datasets."
   ]
  },
  {
   "cell_type": "code",
   "execution_count": 59,
   "metadata": {},
   "outputs": [
    {
     "name": "stdout",
     "output_type": "stream",
     "text": [
      "Epoch 1 train loss: 0.659 val accuracy: 0.856 val loss: 0.613\n",
      "Epoch 2 train loss: 0.576 val accuracy: 0.863 val loss: 0.533\n",
      "Epoch 3 train loss: 0.499 val accuracy: 0.866 val loss: 0.455\n",
      "Epoch 4 train loss: 0.433 val accuracy: 0.866 val loss: 0.393\n",
      "Epoch 5 train loss: 0.390 val accuracy: 0.872 val loss: 0.353\n",
      "Epoch 6 train loss: 0.370 val accuracy: 0.878 val loss: 0.333\n",
      "Epoch 7 train loss: 0.363 val accuracy: 0.875 val loss: 0.323\n",
      "Epoch 8 train loss: 0.360 val accuracy: 0.875 val loss: 0.319\n",
      "Epoch 9 train loss: 0.358 val accuracy: 0.875 val loss: 0.316\n",
      "Epoch 10 train loss: 0.357 val accuracy: 0.875 val loss: 0.314\n",
      "Epoch 11 train loss: 0.355 val accuracy: 0.875 val loss: 0.313\n",
      "Epoch 12 train loss: 0.354 val accuracy: 0.872 val loss: 0.311\n",
      "Epoch 13 train loss: 0.352 val accuracy: 0.878 val loss: 0.310\n",
      "Epoch 14 train loss: 0.351 val accuracy: 0.881 val loss: 0.309\n",
      "Epoch 15 train loss: 0.350 val accuracy: 0.881 val loss: 0.308\n",
      "Epoch 16 train loss: 0.349 val accuracy: 0.884 val loss: 0.307\n",
      "Epoch 17 train loss: 0.348 val accuracy: 0.884 val loss: 0.306\n",
      "Epoch 18 train loss: 0.347 val accuracy: 0.881 val loss: 0.305\n",
      "Epoch 19 train loss: 0.346 val accuracy: 0.881 val loss: 0.304\n",
      "Epoch 20 train loss: 0.346 val accuracy: 0.881 val loss: 0.303\n",
      "Epoch 21 train loss: 0.345 val accuracy: 0.878 val loss: 0.303\n",
      "Epoch 22 train loss: 0.344 val accuracy: 0.878 val loss: 0.302\n",
      "Epoch 23 train loss: 0.343 val accuracy: 0.878 val loss: 0.302\n",
      "Epoch 24 train loss: 0.343 val accuracy: 0.878 val loss: 0.301\n",
      "Epoch 25 train loss: 0.342 val accuracy: 0.878 val loss: 0.301\n",
      "Epoch 26 train loss: 0.341 val accuracy: 0.878 val loss: 0.300\n",
      "Epoch 27 train loss: 0.340 val accuracy: 0.878 val loss: 0.300\n",
      "Epoch 28 train loss: 0.340 val accuracy: 0.878 val loss: 0.300\n",
      "Epoch 29 train loss: 0.339 val accuracy: 0.875 val loss: 0.299\n",
      "Epoch 30 train loss: 0.338 val accuracy: 0.875 val loss: 0.299\n",
      "Epoch 31 train loss: 0.337 val accuracy: 0.875 val loss: 0.299\n",
      "Epoch 32 train loss: 0.337 val accuracy: 0.878 val loss: 0.298\n",
      "Epoch 33 train loss: 0.336 val accuracy: 0.878 val loss: 0.298\n",
      "Epoch 34 train loss: 0.335 val accuracy: 0.872 val loss: 0.298\n",
      "Epoch 35 train loss: 0.334 val accuracy: 0.875 val loss: 0.298\n",
      "Epoch 36 train loss: 0.334 val accuracy: 0.875 val loss: 0.297\n",
      "Epoch 37 train loss: 0.333 val accuracy: 0.875 val loss: 0.297\n",
      "Epoch 38 train loss: 0.332 val accuracy: 0.875 val loss: 0.297\n",
      "Epoch 39 train loss: 0.331 val accuracy: 0.875 val loss: 0.297\n",
      "Epoch 40 train loss: 0.331 val accuracy: 0.875 val loss: 0.297\n",
      "Epoch 41 train loss: 0.330 val accuracy: 0.875 val loss: 0.297\n",
      "Epoch 42 train loss: 0.329 val accuracy: 0.875 val loss: 0.297\n",
      "Epoch 43 train loss: 0.328 val accuracy: 0.878 val loss: 0.297\n",
      "Epoch 44 train loss: 0.327 val accuracy: 0.878 val loss: 0.297\n",
      "Epoch 45 train loss: 0.327 val accuracy: 0.878 val loss: 0.297\n",
      "Epoch 46 train loss: 0.326 val accuracy: 0.878 val loss: 0.297\n",
      "Epoch 47 train loss: 0.325 val accuracy: 0.878 val loss: 0.297\n",
      "Epoch 48 train loss: 0.324 val accuracy: 0.881 val loss: 0.297\n",
      "Epoch 49 train loss: 0.323 val accuracy: 0.881 val loss: 0.297\n",
      "Epoch 50 train loss: 0.322 val accuracy: 0.881 val loss: 0.297\n",
      "Early stopping; val loss plateaued at 0.297\n"
     ]
    }
   ],
   "source": [
    "model = MlpPrefModel([32, 16])\n",
    "state = model.fit(train, val)"
   ]
  },
  {
   "cell_type": "code",
   "execution_count": 52,
   "metadata": {},
   "outputs": [
    {
     "data": {
      "text/plain": [
       "{'kendalltau': 0.6655142748467353, 'loss': 2.486251}"
      ]
     },
     "execution_count": 52,
     "metadata": {},
     "output_type": "execute_result"
    }
   ],
   "source": [
    "model.apply({'params': state.params}, test, method=model.test)"
   ]
  },
  {
   "cell_type": "code",
   "execution_count": 102,
   "metadata": {},
   "outputs": [
    {
     "data": {
      "text/plain": [
       "<matplotlib.collections.PathCollection at 0x7fc1acdf2c20>"
      ]
     },
     "execution_count": 102,
     "metadata": {},
     "output_type": "execute_result"
    },
    {
     "data": {
      "image/png": "[encoded data removed]",
      "text/plain": [
       "<Figure size 432x288 with 1 Axes>"
      ]
     },
     "metadata": {
      "needs_background": "light"
     },
     "output_type": "display_data"
    }
   ],
   "source": [
    "import matplotlib.pyplot as plt\n",
    "\n",
    "plt.scatter(\n",
    "    np.concatenate(rank_corr.scores, axis=0),\n",
    "    np.concatenate(rank_corr.labels, axis=0),\n",
    ")"
   ]
  }
 ],
 "metadata": {
  "interpreter": {
   "hash": "fa81541598839f570aad5dc7c0c2a1b79738f10fbd2c927ab4c8b970fa51d8f7"
  },
  "kernelspec": {
   "display_name": "Conda (base)",
   "language": "python",
   "name": "base"
  },
  "language_info": {
   "codemirror_mode": {
    "name": "ipython",
    "version": 3
   },
   "file_extension": ".py",
   "mimetype": "text/x-python",
   "name": "python",
   "nbconvert_exporter": "python",
   "pygments_lexer": "ipython3",
   "version": "3.10.0"
  },
  "orig_nbformat": 4
 },
 "nbformat": 4,
 "nbformat_minor": 2
}
